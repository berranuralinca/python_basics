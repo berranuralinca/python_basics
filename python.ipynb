{
 "cells": [
  {
   "cell_type": "markdown",
   "id": "9f96c787-5629-45f0-9d82-c71ddbedacb3",
   "metadata": {},
   "source": [
    "<h6 style=\"color:grey;\">This notebook was prepared by Berra Nur Alinca</h6>\n"
   ]
  },
  {
   "cell_type": "markdown",
   "id": "190724f6-df92-4bdb-a480-81e6764f1966",
   "metadata": {},
   "source": [
    "# Python\n"
   ]
  },
  {
   "cell_type": "code",
   "execution_count": 3,
   "id": "29badc2b-be3b-4c9d-9db2-000cd760939e",
   "metadata": {},
   "outputs": [
    {
     "name": "stdout",
     "output_type": "stream",
     "text": [
      "hello world\n"
     ]
    }
   ],
   "source": [
    "print(\"hello world\")"
   ]
  },
  {
   "cell_type": "markdown",
   "id": "7e21a8b4-d2ec-4c9e-89fc-403c44bc4668",
   "metadata": {},
   "source": [
    "## Comments and Multiline Comments\n",
    "***\n",
    "Python does not really have a syntax for multiline comments.\n",
    "\r\n",
    "To add a multiline comment you could insert a # for each line:"
   ]
  },
  {
   "cell_type": "code",
   "execution_count": 9,
   "id": "d440b482-3562-46f1-b1e7-27a231f04eb6",
   "metadata": {},
   "outputs": [],
   "source": [
    "#this is a comment"
   ]
  },
  {
   "cell_type": "code",
   "execution_count": 13,
   "id": "e620c6e6-e639-4cb9-a410-7b3a38a78787",
   "metadata": {},
   "outputs": [],
   "source": [
    "#multiline comment1\n",
    "#multiline comment2"
   ]
  },
  {
   "cell_type": "markdown",
   "id": "feac2d72-f5bd-436e-b4f9-892d98dcef75",
   "metadata": {},
   "source": [
    "## Variables\n",
    "***\n",
    "A variable is created the moment you first assign a value to it."
   ]
  },
  {
   "cell_type": "code",
   "execution_count": 20,
   "id": "18e638a5-de0e-4a9a-95f2-b8fcc42b712b",
   "metadata": {},
   "outputs": [
    {
     "name": "stdout",
     "output_type": "stream",
     "text": [
      "4 name\n"
     ]
    }
   ],
   "source": [
    "x=4 #this is a integer variable\n",
    "y=\"name\" #this is a string variable\n",
    "print(x,y)"
   ]
  },
  {
   "cell_type": "code",
   "execution_count": 34,
   "id": "af0c3459-f4ed-4768-ab0f-ac68654799c3",
   "metadata": {},
   "outputs": [
    {
     "name": "stdout",
     "output_type": "stream",
     "text": [
      "x= 3 <class 'str'>\n",
      "y= 3 <class 'int'>\n",
      "z= 3.0 <class 'float'>\n"
     ]
    }
   ],
   "source": [
    "x=str(3)\n",
    "y=int(3)\n",
    "z=float(3)\n",
    "print('x=',x,type(x))\n",
    "print('y=',y,type(y))\n",
    "print('z=',z,type(z))"
   ]
  },
  {
   "cell_type": "markdown",
   "id": "bbe17f54-3739-46ea-99df-c14a3aa6a86c",
   "metadata": {},
   "source": [
    "##### ! Variable names are case-sensitive."
   ]
  },
  {
   "cell_type": "code",
   "execution_count": 41,
   "id": "19ad46f2-c49f-4c47-99c1-412fa984f022",
   "metadata": {},
   "outputs": [
    {
     "name": "stdout",
     "output_type": "stream",
     "text": [
      "67 this is a\n",
      "numbers this is A\n"
     ]
    }
   ],
   "source": [
    "a=67\n",
    "A=\"numbers\"\n",
    "print(a,\"this is a\")\n",
    "print(A,\"this is A\")"
   ]
  },
  {
   "cell_type": "markdown",
   "id": "c4038be1-c969-4e87-9681-b83b43dd1296",
   "metadata": {},
   "source": [
    "#### Variables Names"
   ]
  },
  {
   "cell_type": "markdown",
   "id": "87245706-e186-429d-99e0-2ec291ef997f",
   "metadata": {},
   "source": [
    "Variables can have different names but there are certain rules\n"
   ]
  },
  {
   "cell_type": "markdown",
   "id": "970ecfe1-50ac-4843-beb9-f51ace54669d",
   "metadata": {},
   "source": [
    "\n",
    "##### rules\n",
    "- A variable name cannot start with a number\n",
    "- A variable name can only contain alpha-numeric characters and underscores (A-z, 0-9, and _ )\n",
    "- A variable name must start with a letter or the underscore character\n",
    "- Variable names are case-sensitive (age, Age and AGE are three different variables)\n",
    "- A variable name cannot be any of the [Python keywords](https://www.geeksforgeeks.org/python-keywords/)"
   ]
  },
  {
   "cell_type": "markdown",
   "id": "b9d706ba-fd3a-463e-a1aa-d4b6c2622ca3",
   "metadata": {},
   "source": [
    "#### Certain Naming Conventions\n",
    "It is best practice to choose one case style and stick with it. That way, your code will remain readable, easy to understand and maintainable for yourself and other developers."
   ]
  },
  {
   "cell_type": "markdown",
   "id": "ca5119bf-719f-45ac-ae27-b3ed4995406f",
   "metadata": {},
   "source": [
    "- Snake case"
   ]
  },
  {
   "cell_type": "markdown",
   "id": "b3feaee7-fe05-4261-9319-a32f79392177",
   "metadata": {},
   "source": [
    "Snake case separates each word with an underscore character (_) and all letters need to be lowercase"
   ]
  },
  {
   "cell_type": "code",
   "execution_count": 23,
   "id": "5baeb936-8955-43af-b9b0-b88c3dac012f",
   "metadata": {},
   "outputs": [
    {
     "name": "stdout",
     "output_type": "stream",
     "text": [
      "snake case was used\n"
     ]
    }
   ],
   "source": [
    "my_variable=\"snake case was used\"\n",
    "print(my_variable)"
   ]
  },
  {
   "cell_type": "markdown",
   "id": "830f60fd-aa07-4b68-ade2-8024a3f27547",
   "metadata": {},
   "source": [
    "- Camel case"
   ]
  },
  {
   "cell_type": "markdown",
   "id": "939aecf4-ebe9-4b1c-83ff-9615b8e6e443",
   "metadata": {},
   "source": [
    "When using camel case,  first word needs to be lowercase. Then, you capitalize the first letter of each word that follows."
   ]
  },
  {
   "cell_type": "code",
   "execution_count": 38,
   "id": "fb5b5b55-7bb4-45e5-aba5-2855c9cd4fcc",
   "metadata": {},
   "outputs": [
    {
     "name": "stdout",
     "output_type": "stream",
     "text": [
      "camel case was used\n"
     ]
    }
   ],
   "source": [
    "myVariable=\"camel case was used\"\n",
    "print(myVariable)"
   ]
  },
  {
   "cell_type": "markdown",
   "id": "d2945914-f9d5-4f0a-b896-4f29d165ad36",
   "metadata": {},
   "source": [
    "- Pascal case\n"
   ]
  },
  {
   "cell_type": "markdown",
   "id": "dfc0d419-b399-42dc-abd4-4ad0f3c5880b",
   "metadata": {},
   "source": [
    "Each word starts with a capital letter"
   ]
  },
  {
   "cell_type": "code",
   "execution_count": 45,
   "id": "f6b9da35-4616-419b-8da1-5cb92e33ac25",
   "metadata": {},
   "outputs": [
    {
     "name": "stdout",
     "output_type": "stream",
     "text": [
      "pascal case was used\n"
     ]
    }
   ],
   "source": [
    "MyVariable=\"pascal case was used\"\n",
    "print(MyVariable)"
   ]
  },
  {
   "cell_type": "markdown",
   "id": "6f905035-6ec4-46c3-b298-fd61d203802d",
   "metadata": {},
   "source": [
    "##### Global Variables"
   ]
  },
  {
   "cell_type": "markdown",
   "id": "9cc5db41-4c7f-4ed2-a52f-ad6986b21112",
   "metadata": {},
   "source": [
    "Global variables can be used by everyone, both inside of functions and outside."
   ]
  },
  {
   "cell_type": "code",
   "execution_count": 53,
   "id": "2987b786-7aee-4025-936c-f3eb2f574fa6",
   "metadata": {},
   "outputs": [
    {
     "name": "stdout",
     "output_type": "stream",
     "text": [
      "this is variable two\n",
      "this is variable one\n"
     ]
    }
   ],
   "source": [
    "my_variable=\"variable one\" \n",
    "\n",
    "def my_func():\n",
    "    my_variable=\"variable two\"\n",
    "    print(\"this is \"+my_variable)\n",
    "\n",
    "my_func()\n",
    "print(\"this is \"+my_variable)\n"
   ]
  },
  {
   "cell_type": "code",
   "execution_count": 59,
   "id": "948143de-65e5-4663-a883-5f2251b32731",
   "metadata": {},
   "outputs": [
    {
     "name": "stdout",
     "output_type": "stream",
     "text": [
      "this is variable one\n"
     ]
    }
   ],
   "source": [
    "my_variable=\"variable one\" \n",
    "\n",
    "def my_func():\n",
    "    my_variable=\"variable two\"\n",
    "    \n",
    "my_func()\n",
    "print(\"this is \"+my_variable)\n"
   ]
  },
  {
   "cell_type": "code",
   "execution_count": 61,
   "id": "4430e2e3-1065-4ae2-8320-fd44ba62e0ff",
   "metadata": {},
   "outputs": [
    {
     "name": "stdout",
     "output_type": "stream",
     "text": [
      "this is variable two\n",
      "this is variable two\n"
     ]
    }
   ],
   "source": [
    "my_variable=\"variable one \" \n",
    "\n",
    "def my_func():\n",
    "    global my_variable    #If you use the global keyword, the variable belongs to the global scope\n",
    "    my_variable=\"variable two\"\n",
    "    print(\"this is \"+my_variable)\n",
    "\n",
    "my_func()\n",
    "print(\"this is \"+my_variable)"
   ]
  },
  {
   "cell_type": "markdown",
   "id": "2e299353-edf1-4418-ae3e-8251b1c66173",
   "metadata": {},
   "source": [
    "### Data Types\n",
    "***"
   ]
  },
  {
   "cell_type": "markdown",
   "id": "f1dbec7f-1f12-450e-8bcd-3651b225cf2a",
   "metadata": {},
   "source": [
    "- Numeric type : int,float,complex\n",
    "- Text type : str\n",
    "- Squence type: list,tuple,range\n",
    "- Boolean type:\tbool\n",
    "- None type:NoneType\n",
    "- Mapping type:\tdict"
   ]
  },
  {
   "cell_type": "code",
   "execution_count": 84,
   "id": "2c870ed9-eef1-4010-9122-5b04835edf5b",
   "metadata": {},
   "outputs": [
    {
     "name": "stdout",
     "output_type": "stream",
     "text": [
      "28 <class 'int'>\n",
      "33.08 <class 'float'>\n",
      "2j <class 'complex'>\n"
     ]
    }
   ],
   "source": [
    "x=28\n",
    "y=33.08\n",
    "z=2j\n",
    "print(x,type(x))\n",
    "print(y,type(y))\n",
    "print(z,type(z))"
   ]
  },
  {
   "cell_type": "markdown",
   "id": "a799ee1d-2218-4141-ab6b-1262acabbb57",
   "metadata": {},
   "source": [
    "##### Type() Function\n",
    "type function shows the variable type\n"
   ]
  },
  {
   "cell_type": "code",
   "execution_count": 70,
   "id": "80da3c47-2f5c-42ea-aedd-085f5395bf36",
   "metadata": {},
   "outputs": [
    {
     "name": "stdout",
     "output_type": "stream",
     "text": [
      "<class 'int'>\n"
     ]
    }
   ],
   "source": [
    "number_one=220\n",
    "print(type(number_one))"
   ]
  },
  {
   "cell_type": "markdown",
   "id": "2a341735-5542-4df4-9c8a-31e58bd104a7",
   "metadata": {},
   "source": [
    "##### Type Conversion"
   ]
  },
  {
   "cell_type": "code",
   "execution_count": 76,
   "id": "87f9c4df-4edb-4f04-a212-df1f8ca91ab5",
   "metadata": {},
   "outputs": [
    {
     "name": "stdout",
     "output_type": "stream",
     "text": [
      "this is  15\n",
      "this is  15.0\n"
     ]
    }
   ],
   "source": [
    "variable_one=15\n",
    "variable_two=float(variable_one)\n",
    "print(\"this is \",variable_one)\n",
    "print(\"this is \",variable_two)"
   ]
  },
  {
   "cell_type": "markdown",
   "id": "5218fd06-4cec-4a94-93f1-ec40574f2849",
   "metadata": {},
   "source": [
    "****You cannot convert complex numbers into another number type.****"
   ]
  },
  {
   "cell_type": "markdown",
   "id": "0c0ae78a-9234-4fbf-aab8-1b20bfdef24e",
   "metadata": {},
   "source": [
    "##### Random Number"
   ]
  },
  {
   "cell_type": "code",
   "execution_count": 93,
   "id": "95d39f6e-495e-4683-b2b9-633ce3eed32f",
   "metadata": {},
   "outputs": [
    {
     "name": "stdout",
     "output_type": "stream",
     "text": [
      "9\n"
     ]
    }
   ],
   "source": [
    "import random\n",
    "print(random.randint(1,10))   #returns a number between 1 and 10"
   ]
  },
  {
   "cell_type": "markdown",
   "id": "b98f9e51-be32-424b-be78-e8a0136a7e8f",
   "metadata": {},
   "source": [
    "### Strings\n",
    "***"
   ]
  },
  {
   "cell_type": "markdown",
   "id": "cd86021b-f2ac-436b-8739-7ef66003ebf2",
   "metadata": {},
   "source": [
    "###### Strings are arrays"
   ]
  },
  {
   "cell_type": "code",
   "execution_count": 107,
   "id": "e72d45ac-1699-4c44-acbd-4152930ab9db",
   "metadata": {},
   "outputs": [
    {
     "name": "stdout",
     "output_type": "stream",
     "text": [
      "i\n"
     ]
    }
   ],
   "source": [
    "x=\"this is string array\"\n",
    "print(x[2])"
   ]
  },
  {
   "cell_type": "markdown",
   "id": "b1f5a033-ec31-4afe-920e-363258d41d66",
   "metadata": {},
   "source": [
    "###### Looping Strings"
   ]
  },
  {
   "cell_type": "code",
   "execution_count": 110,
   "id": "24da41d6-b3d3-4e2d-a521-10cbb3b5e284",
   "metadata": {},
   "outputs": [
    {
     "name": "stdout",
     "output_type": "stream",
     "text": [
      "t\n",
      "h\n",
      "i\n",
      "s\n",
      "i\n",
      "s\n",
      "l\n",
      "o\n",
      "o\n",
      "p\n"
     ]
    }
   ],
   "source": [
    "y=\"thisisloop\"\n",
    "for x in y:\n",
    "    print(x)"
   ]
  },
  {
   "cell_type": "markdown",
   "id": "eea4d294-a3ca-40ad-be16-0cd4f1d6eea4",
   "metadata": {},
   "source": [
    "###### Len() Method"
   ]
  },
  {
   "cell_type": "code",
   "execution_count": 113,
   "id": "e9bcfabf-4c10-4fc1-a6f4-a5da7aeea664",
   "metadata": {},
   "outputs": [
    {
     "name": "stdout",
     "output_type": "stream",
     "text": [
      "28\n"
     ]
    }
   ],
   "source": [
    "z=\"this string is 28 characters\"\n",
    "print(len(z))"
   ]
  },
  {
   "cell_type": "markdown",
   "id": "037b77f0-223c-4bde-9338-15f22d76b077",
   "metadata": {},
   "source": [
    "###### Check with in"
   ]
  },
  {
   "cell_type": "code",
   "execution_count": 117,
   "id": "059e4601-c685-431b-9458-c76fa2d1fe7b",
   "metadata": {},
   "outputs": [
    {
     "name": "stdout",
     "output_type": "stream",
     "text": [
      "True\n"
     ]
    }
   ],
   "source": [
    "my_text=\"It is sunny today\"    #if this string contains \"sunny\",returns true.\n",
    "print(\"sunny\" in my_text)    "
   ]
  },
  {
   "cell_type": "markdown",
   "id": "6faabd4d-34df-4faa-9de0-8216fd8f2933",
   "metadata": {},
   "source": [
    "###### Check with not in"
   ]
  },
  {
   "cell_type": "code",
   "execution_count": 125,
   "id": "a5ec251d-1581-4124-a710-394ff3706fc8",
   "metadata": {},
   "outputs": [
    {
     "name": "stdout",
     "output_type": "stream",
     "text": [
      "True\n"
     ]
    }
   ],
   "source": [
    "my_text=\"It is sunny today\"   #if this string doesn't contain \"rainy\",returns true.\n",
    "print(\"rainy\" not in my_text)"
   ]
  },
  {
   "cell_type": "markdown",
   "id": "8188f418-763a-4683-a4b0-05d97ba2c937",
   "metadata": {},
   "source": [
    "###### İf with in"
   ]
  },
  {
   "cell_type": "code",
   "execution_count": 128,
   "id": "5dbb8394-814e-4889-823b-9905043ec80e",
   "metadata": {},
   "outputs": [
    {
     "name": "stdout",
     "output_type": "stream",
     "text": [
      "Yes...Me to.\n"
     ]
    }
   ],
   "source": [
    "txt=\"I like listening rock\"\n",
    "if \"rock\" in txt:\n",
    "    print(\"Yes...Me to.\")"
   ]
  },
  {
   "cell_type": "markdown",
   "id": "a7cec340-764c-40b6-b676-4b2e673fea80",
   "metadata": {},
   "source": [
    "###### İf with not in"
   ]
  },
  {
   "cell_type": "code",
   "execution_count": 134,
   "id": "b1e93f82-3d12-47ed-bd98-aaab0e61a5d0",
   "metadata": {},
   "outputs": [
    {
     "name": "stdout",
     "output_type": "stream",
     "text": [
      "No..I don't  like it\n"
     ]
    }
   ],
   "source": [
    "txt=\"I like listening rock\"\n",
    "if \"rap\" not in txt:\n",
    "    print(\"No..I don't  like it\")"
   ]
  },
  {
   "cell_type": "markdown",
   "id": "9e6c31da-5948-4b75-9a5f-a847833812cd",
   "metadata": {},
   "source": [
    "###### Slicing\n",
    "Get the characters from position x to position y (not included)"
   ]
  },
  {
   "cell_type": "code",
   "execution_count": 138,
   "id": "30fb8068-800a-4e0e-b44f-9c785c3ec604",
   "metadata": {},
   "outputs": [
    {
     "name": "stdout",
     "output_type": "stream",
     "text": [
      "stex\n"
     ]
    }
   ],
   "source": [
    "slicing_txt=\"thistextwassliced\"\n",
    "print(slicing_txt[3:7])"
   ]
  },
  {
   "cell_type": "code",
   "execution_count": 26,
   "id": "7d9c3e2c-9093-4812-a2d4-9cf41084e126",
   "metadata": {},
   "outputs": [
    {
     "name": "stdout",
     "output_type": "stream",
     "text": [
      "sslic\n"
     ]
    }
   ],
   "source": [
    "slicing_txt=\"thistextwassliced\"\n",
    "print(slicing_txt[-7:-2]) "
   ]
  },
  {
   "cell_type": "markdown",
   "id": "44319649-dc98-4349-9a15-d42435924c6b",
   "metadata": {},
   "source": [
    "###### Escape Characters"
   ]
  },
  {
   "cell_type": "markdown",
   "id": "55d7d770-00a5-4923-94d2-477f48b88c4e",
   "metadata": {},
   "source": [
    "- single quote: \\\\'"
   ]
  },
  {
   "cell_type": "code",
   "execution_count": 24,
   "id": "add21ecc-8f15-4797-bc0e-f11443bcd474",
   "metadata": {},
   "outputs": [
    {
     "name": "stdout",
     "output_type": "stream",
     "text": [
      "that's right\n"
     ]
    }
   ],
   "source": [
    "print(\"that\\'s right\")"
   ]
  },
  {
   "cell_type": "markdown",
   "id": "2394b737-64d0-448e-8496-b13e75fdd1bf",
   "metadata": {},
   "source": [
    "- new line :\\\\n"
   ]
  },
  {
   "cell_type": "code",
   "execution_count": 29,
   "id": "dc4cf8c3-3b9f-4f77-a9bb-c9d9233a2f38",
   "metadata": {},
   "outputs": [
    {
     "name": "stdout",
     "output_type": "stream",
     "text": [
      "new \n",
      "line\n"
     ]
    }
   ],
   "source": [
    "txt=\"new \\nline\"\n",
    "print(txt)"
   ]
  },
  {
   "cell_type": "markdown",
   "id": "50333ef4-5cfa-4ee1-b74a-051e92d597cd",
   "metadata": {},
   "source": [
    "##### String Methods"
   ]
  },
  {
   "cell_type": "markdown",
   "id": "5640731c-4e8b-45db-8e31-06a18e9ef71c",
   "metadata": {},
   "source": [
    "- upper(): Returns the string in upper case\n",
    "- lower(): Returns the string in lower case"
   ]
  },
  {
   "cell_type": "code",
   "execution_count": 149,
   "id": "0b753ac7-7e07-452a-91ac-c78661cf0c62",
   "metadata": {},
   "outputs": [
    {
     "name": "stdout",
     "output_type": "stream",
     "text": [
      "THIS IS A STANDART TEXT.\n",
      "this is a standart text.\n"
     ]
    }
   ],
   "source": [
    "txt=\"this is a standart text.\"\n",
    "print(txt.upper())\n",
    "print(txt.lower())"
   ]
  },
  {
   "cell_type": "markdown",
   "id": "161666de-3824-4d1c-a2b6-24d37bcf415a",
   "metadata": {},
   "source": [
    "- strip():Removes strings from the beginning and the end."
   ]
  },
  {
   "cell_type": "code",
   "execution_count": 158,
   "id": "dd2ab58c-136d-422d-b539-c4f3104cf1fb",
   "metadata": {},
   "outputs": [
    {
     "name": "stdout",
     "output_type": "stream",
     "text": [
      "removed text\n"
     ]
    }
   ],
   "source": [
    "txt=\"222removed text22\"\n",
    "print(txt.strip('2'))"
   ]
  },
  {
   "cell_type": "markdown",
   "id": "50f5a929-ba32-41c2-bafb-d49269ab797f",
   "metadata": {},
   "source": [
    "- replace():replaces a string with an another string"
   ]
  },
  {
   "cell_type": "code",
   "execution_count": 8,
   "id": "542d6455-7af5-46a3-a9d0-88afb34dbc62",
   "metadata": {},
   "outputs": [
    {
     "name": "stdout",
     "output_type": "stream",
     "text": [
      "raplacad taxt\n"
     ]
    }
   ],
   "source": [
    "txt=\"replaced text\"\n",
    "print(txt.replace(\"e\",\"a\"))"
   ]
  },
  {
   "cell_type": "markdown",
   "id": "958126ba-6e32-456e-b6c8-f04ed9edecbe",
   "metadata": {},
   "source": [
    "- F Strings:"
   ]
  },
  {
   "cell_type": "code",
   "execution_count": 12,
   "id": "9b72ac94-14a7-4aaf-a15d-9054e92324e5",
   "metadata": {},
   "outputs": [
    {
     "name": "stdout",
     "output_type": "stream",
     "text": [
      " I am 21\n"
     ]
    }
   ],
   "source": [
    "age=21\n",
    "txt=f\" I am {age}\"\n",
    "print(txt)"
   ]
  },
  {
   "cell_type": "markdown",
   "id": "5581e65a-e419-46f1-bdad-872a477b81fe",
   "metadata": {},
   "source": [
    "- capitalize():returns the first character to upper case."
   ]
  },
  {
   "cell_type": "code",
   "execution_count": 36,
   "id": "69a3b51f-4489-4312-ab68-9c529993d7a4",
   "metadata": {},
   "outputs": [
    {
     "name": "stdout",
     "output_type": "stream",
     "text": [
      "The first character is capitalized\n"
     ]
    }
   ],
   "source": [
    "txt=\"the first character is capitalized\"\n",
    "print(txt.capitalize())"
   ]
  },
  {
   "cell_type": "markdown",
   "id": "e44fd1d4-3bea-4474-87ed-90085a61c930",
   "metadata": {},
   "source": [
    "- center():centered string"
   ]
  },
  {
   "cell_type": "code",
   "execution_count": 77,
   "id": "2c320463-5229-4756-877b-111c9d2df26d",
   "metadata": {},
   "outputs": [
    {
     "name": "stdout",
     "output_type": "stream",
     "text": [
      "        centered text         \n"
     ]
    }
   ],
   "source": [
    "txt=\"centered text\"\n",
    "print(txt.center(30))"
   ]
  },
  {
   "cell_type": "markdown",
   "id": "ef58e0da-eea8-4067-9dc9-168792f02e1e",
   "metadata": {},
   "source": [
    "- format():same as f strings"
   ]
  },
  {
   "cell_type": "code",
   "execution_count": 52,
   "id": "84e0ce22-bcef-4496-9dc1-3a25e12d8b59",
   "metadata": {},
   "outputs": [
    {
     "name": "stdout",
     "output_type": "stream",
     "text": [
      "this is only 22\n"
     ]
    }
   ],
   "source": [
    "txt=\"this is only {price}\"\n",
    "print(txt.format(price=22))"
   ]
  },
  {
   "cell_type": "markdown",
   "id": "482b7e0b-0536-40d3-b88a-f90253462709",
   "metadata": {},
   "source": [
    "- dir():to see other methods of string"
   ]
  },
  {
   "cell_type": "markdown",
   "id": "d22cebd8-38ce-4d9e-b299-72fb5bb8a02e",
   "metadata": {},
   "source": [
    "### Booleans\n",
    "***\n",
    "Returns True or False\n",
    "\n",
    "- Any string is True, except empty strings.\n",
    "- \r\n",
    "Any number is True, except\n",
    "- Any list , tuple, set, and dictionary are True, except empty.nes."
   ]
  },
  {
   "cell_type": "code",
   "execution_count": 75,
   "id": "d2528132-73c3-47cf-9eff-cdaccaffebba",
   "metadata": {},
   "outputs": [
    {
     "name": "stdout",
     "output_type": "stream",
     "text": [
      "True\n"
     ]
    }
   ],
   "source": [
    "print(bool(\"12\"))"
   ]
  },
  {
   "cell_type": "markdown",
   "id": "e6990427-3267-4f2f-981e-7d520c75f3b8",
   "metadata": {},
   "source": [
    "### Operators\n",
    "***"
   ]
  },
  {
   "cell_type": "markdown",
   "id": "7b242452-0ca8-4d41-b88a-921fb0c1ba84",
   "metadata": {},
   "source": [
    "- Arithmetic Operators"
   ]
  },
  {
   "cell_type": "raw",
   "id": "e826553a-24ee-49bb-8179-0a5b04efa525",
   "metadata": {},
   "source": [
    "+\tAddition\t    x + y\t\n",
    "-\tSubtraction\t    x - y\t\n",
    "*\tMultiplication\tx * y\t\n",
    "/\tDivision\t    x / y\t\n",
    "%\tMod  \t        x % y\t\n",
    "**\tExponentiation\tx ** y\t\n",
    "//\tFloor division\tx // y"
   ]
  },
  {
   "cell_type": "markdown",
   "id": "bcf7c520-d92d-4c34-ade2-f1031d5a2e89",
   "metadata": {},
   "source": [
    "- Assignment Operators"
   ]
  },
  {
   "cell_type": "raw",
   "id": "bdd7884b-aa9a-4ce4-adc0-c45e9a224b0e",
   "metadata": {},
   "source": [
    "  =   x = 5\tx = 5\t\n",
    " +=\t  x += 3\tx = x + 3\t\n",
    " -=\t  x -= 3\tx = x - 3\t\n",
    " *=   x *= 3\tx = x * 3\t\n",
    " /=\t  x /= 3\tx = x / 3\t\n",
    " %=\t  x %= 3\tx = x % 3\t\n",
    "//=   x //= 3\tx = x // 3\t\n",
    "**=   x **= 3\tx = x ** 3\t\n",
    " &=\t  x &= 3\tx = x & 3\t\n",
    " |=\t  x |= 3\tx = x | 3\t\n",
    " ^=\t  x ^= 3\tx = x ^ 3\t\n",
    ">>=\t  x >>= 3\tx = x >> 3\t\n",
    "<<=   x <<= 3\tx = x << 3\t"
   ]
  },
  {
   "cell_type": "markdown",
   "id": "b4608e67-b20a-4fbd-9f0c-c155ca96963c",
   "metadata": {},
   "source": [
    "- Comparison Operators"
   ]
  },
  {
   "cell_type": "raw",
   "id": "460edbad-5f9f-44f4-80be-ee7d2f02fa62",
   "metadata": {},
   "source": [
    "==\tEqual\t      x == y\t\n",
    "!=\tNot equal     x != y\t\n",
    ">\tGreater than  x > y\t\n",
    "<\tLess than\t  x < y\t\n",
    ">=\tGreater than or equal to x >= y\t\n",
    "<=\tLess than or equal to\t x <= y"
   ]
  },
  {
   "cell_type": "markdown",
   "id": "efa31f01-c018-431e-9451-bf254b5a2629",
   "metadata": {},
   "source": [
    "- Logical Operators"
   ]
  },
  {
   "cell_type": "raw",
   "id": "48749b1c-23ab-4af0-a54c-5803e1607f1c",
   "metadata": {},
   "source": [
    "                                                      x=4\n",
    "and   Returns True if both statements are true   \t  x < 5 and  x < 10\t     true\n",
    "or\t  Returns True if one of the statements is true\t  x < 5 or x < 4\t     true\n",
    "not\t  Returns False if the result is true             not(x < 5 and x < 10)  false"
   ]
  },
  {
   "cell_type": "markdown",
   "id": "12aed5fb-6bd4-4d12-9b89-7b6cf19175c3",
   "metadata": {},
   "source": [
    "### Lists\n",
    "***\n",
    "Lists are used to store multiple variables in a single variable"
   ]
  },
  {
   "cell_type": "code",
   "execution_count": 63,
   "id": "f2ec9ab6-8b93-4407-8610-90555f5f8e65",
   "metadata": {},
   "outputs": [
    {
     "name": "stdout",
     "output_type": "stream",
     "text": [
      "bread\n",
      "tomato\n",
      "['garlic', 'bread']\n"
     ]
    }
   ],
   "source": [
    "my_list=[\"garlic\",\"bread\",\"tomato\"]\n",
    "print(my_list[1])\n",
    "print(my_list[-1])\n",
    "print(my_list[0:2])"
   ]
  },
  {
   "cell_type": "markdown",
   "id": "cd74e1cb-3c44-46a6-8b4a-a22977e67f29",
   "metadata": {},
   "source": [
    "**!! A list can contain different data types**\n",
    "***.Lists are changeable and ordered***"
   ]
  },
  {
   "cell_type": "markdown",
   "id": "eeee0e15-5d49-405d-9450-cf51e363e668",
   "metadata": {},
   "source": [
    "- combine list"
   ]
  },
  {
   "cell_type": "code",
   "execution_count": 67,
   "id": "a1c0dccd-7dba-4ab1-b893-db4db9bf20db",
   "metadata": {},
   "outputs": [
    {
     "name": "stdout",
     "output_type": "stream",
     "text": [
      "[['AA', 'BA', 'BB', 'CB', 'CC'], ['100', '90', '80']]\n"
     ]
    },
    {
     "data": {
      "text/plain": [
       "'100'"
      ]
     },
     "execution_count": 67,
     "metadata": {},
     "output_type": "execute_result"
    }
   ],
   "source": [
    "letter_grades=[\"AA\",\"BA\",\"BB\",\"CB\",\"CC\"]\n",
    "grades=[\"100\",\"90\",\"80\"]\n",
    "all_grades=[letter_grades,grades]\n",
    "print(all_grades)\n",
    "all_grades[1][0]      #lists are indexed as a variable"
   ]
  },
  {
   "cell_type": "markdown",
   "id": "19c1d58c-db0e-4d77-a7ca-1039109c06f7",
   "metadata": {},
   "source": [
    "- replace list"
   ]
  },
  {
   "cell_type": "code",
   "execution_count": 70,
   "id": "b6462da8-3cef-4758-a910-06f14f715578",
   "metadata": {},
   "outputs": [
    {
     "data": {
      "text/plain": [
       "['ali', 'veli', 'ahmet']"
      ]
     },
     "execution_count": 70,
     "metadata": {},
     "output_type": "execute_result"
    }
   ],
   "source": [
    "list_of_men=[\"ali\",\"veli\",\"ayse\"]\n",
    "list_of_men[2]=\"ahmet\"\n",
    "list_of_men"
   ]
  },
  {
   "cell_type": "markdown",
   "id": "9b9c7b02-8650-4d31-9667-0d464a17be2f",
   "metadata": {},
   "source": [
    "- add and remove an element from the list"
   ]
  },
  {
   "cell_type": "code",
   "execution_count": 73,
   "id": "f006e68d-6b61-424c-81cf-2151b3e5cba9",
   "metadata": {},
   "outputs": [
    {
     "name": "stdout",
     "output_type": "stream",
     "text": [
      "['ayse', 'fatma', 'hayriye']\n"
     ]
    },
    {
     "data": {
      "text/plain": [
       "['zeynep', 'ayse', 'fatma', 'hayriye']"
      ]
     },
     "execution_count": 73,
     "metadata": {},
     "output_type": "execute_result"
    }
   ],
   "source": [
    "list_of_women=[\"ayse\",\"fatma\",\"veli\"]\n",
    "list_of_women.remove(\"veli\")   \n",
    "list_of_women.append(\"hayriye\") \n",
    "print(list_of_women)\n",
    "list_of_women.insert(0,\"zeynep\")\n",
    "list_of_women"
   ]
  },
  {
   "cell_type": "markdown",
   "id": "64f679b3-2a8f-4b93-a190-c7f1047bd07a",
   "metadata": {},
   "source": [
    "- sort()"
   ]
  },
  {
   "cell_type": "code",
   "execution_count": 76,
   "id": "c0c68d80-bad1-4003-81f4-9eb21bf73dbd",
   "metadata": {},
   "outputs": [
    {
     "data": {
      "text/plain": [
       "['a', 'b', 'c', 'd', 'e', 'f']"
      ]
     },
     "execution_count": 76,
     "metadata": {},
     "output_type": "execute_result"
    }
   ],
   "source": [
    "alphabet=[\"a\",\"e\",\"d\",\"b\",\"c\",\"f\"]         # was ordered the list alphanumerically\n",
    "alphabet.sort()\n",
    "alphabet"
   ]
  },
  {
   "cell_type": "markdown",
   "id": "619246f3-d383-4296-b3cd-0f1cae729236",
   "metadata": {},
   "source": [
    "- copy()"
   ]
  },
  {
   "cell_type": "code",
   "execution_count": 79,
   "id": "06ef2cac-9a26-4644-befd-f483c6498230",
   "metadata": {},
   "outputs": [
    {
     "data": {
      "text/plain": [
       "['1', '2']"
      ]
     },
     "execution_count": 79,
     "metadata": {},
     "output_type": "execute_result"
    }
   ],
   "source": [
    "old_list=[\"1\",\"2\"]\n",
    "new_list=old_list.copy()\n",
    "new_list"
   ]
  },
  {
   "cell_type": "markdown",
   "id": "1b7a2b3f-af7a-496d-adc9-d0f6f56b9961",
   "metadata": {},
   "source": [
    "###### dir():to see other methods of lists ######"
   ]
  },
  {
   "cell_type": "markdown",
   "id": "5cb72d43-c3ee-4134-a0ea-115f29b57796",
   "metadata": {},
   "source": [
    "### Tuples ###\n",
    "***\n",
    "Tuples can contain different data types.Tuples are ordered but not changeable (unchangeable)."
   ]
  },
  {
   "cell_type": "code",
   "execution_count": 96,
   "id": "3fad9fe3-4439-467f-a4cf-8bff9b2fef18",
   "metadata": {},
   "outputs": [
    {
     "name": "stdout",
     "output_type": "stream",
     "text": [
      "<class 'tuple'>\n",
      "<class 'str'>\n"
     ]
    }
   ],
   "source": [
    "thistuple = (\"this is a tuple\",)   \n",
    "print(type(thistuple))\n",
    "\n",
    "thistuple = (\"not a tuple\")\n",
    "print(type(thistuple))"
   ]
  },
  {
   "cell_type": "markdown",
   "id": "44cd7a45-e984-4629-adb1-609d2de9a4eb",
   "metadata": {},
   "source": [
    "### Dictionary\n",
    "***\n",
    "Dictionaries are used to store data values in key:value pairs."
   ]
  },
  {
   "cell_type": "code",
   "execution_count": 29,
   "id": "4827b692-e44e-49e4-b068-f4e349fd2682",
   "metadata": {},
   "outputs": [
    {
     "data": {
      "text/plain": [
       "{'name': 'veli', 'surname': 'yilmaz', 'age': '34'}"
      ]
     },
     "execution_count": 29,
     "metadata": {},
     "output_type": "execute_result"
    }
   ],
   "source": [
    "this_dict={\"name\":\"veli\",\n",
    "          \"surname\":\"yilmaz\",\n",
    "          \"age\":\"34\"}\n",
    "this_dict"
   ]
  },
  {
   "cell_type": "code",
   "execution_count": 38,
   "id": "c4e14f4c-5d5f-4179-8ffe-0b0401460624",
   "metadata": {},
   "outputs": [
    {
     "data": {
      "text/plain": [
       "{'name': 'ali', 'surname': 'yilmaz', 'age': '34', 'gender': 'male'}"
      ]
     },
     "execution_count": 38,
     "metadata": {},
     "output_type": "execute_result"
    }
   ],
   "source": [
    "this_dict={\"name\":\"veli\",\n",
    "          \"surname\":\"yilmaz\",\n",
    "          \"age\":\"34\"}\n",
    "this_dict[\"gender\"]=\"male\"        #add a key\n",
    "this_dict\n",
    "this_dict[\"name\"]=\"ali\"           #change a value\n",
    "this_dict"
   ]
  },
  {
   "cell_type": "markdown",
   "id": "f25e9d58-386b-4522-bfa9-762dfc08d6d2",
   "metadata": {},
   "source": [
    "- dict(): create dictionary\n",
    "- keys(): return a list of all the keys\n",
    "- values(): return a list of all the values\n",
    "- pop():remove keys"
   ]
  },
  {
   "cell_type": "code",
   "execution_count": 69,
   "id": "745e28cd-f818-4d0c-9b17-2cf40d3181db",
   "metadata": {},
   "outputs": [
    {
     "name": "stdout",
     "output_type": "stream",
     "text": [
      "{'brand': 'mercedes', 'model': 'G63', 'year': '2020'}\n",
      "dict_keys(['brand', 'model', 'year'])\n",
      "dict_values(['mercedes', 'G63', '2020'])\n",
      "{'model': 'G63', 'year': '2020'}\n"
     ]
    }
   ],
   "source": [
    "cars_dict=dict(brand=\"mercedes\",model=\"G63\",year=\"2020\")\n",
    "print(cars_dict)\n",
    "print(cars_dict.keys())\n",
    "print(cars_dict.values())\n",
    "cars_dict.pop(\"brand\")\n",
    "print(cars_dict)"
   ]
  },
  {
   "cell_type": "markdown",
   "id": "bff69422-bf56-476f-8f28-1cdc1e69b0ef",
   "metadata": {},
   "source": [
    "###### dir():to see other methods of dictionary ######"
   ]
  },
  {
   "cell_type": "markdown",
   "id": "7aa0744a-ece6-43af-bd31-79c5d392b675",
   "metadata": {},
   "source": [
    "### Sets\n",
    "***\n",
    "Sets are used to store multiple items in a single variable."
   ]
  },
  {
   "cell_type": "markdown",
   "id": "f4e9b19c-7834-4819-b301-d47b4de455a8",
   "metadata": {},
   "source": [
    "- difference()\n",
    "- symmetric_difference()"
   ]
  },
  {
   "cell_type": "code",
   "execution_count": 111,
   "id": "97e76a1a-d1f0-47f8-b888-9a75a401160f",
   "metadata": {},
   "outputs": [
    {
     "name": "stdout",
     "output_type": "stream",
     "text": [
      "{'ayse', 'leyla'}\n",
      "{'ali', 'veli'}\n"
     ]
    },
    {
     "data": {
      "text/plain": [
       "{'ali', 'ayse', 'leyla', 'veli'}"
      ]
     },
     "execution_count": 111,
     "metadata": {},
     "output_type": "execute_result"
    }
   ],
   "source": [
    "girls=set([\"deniz\",\"ayse\",\"leyla\"])\n",
    "boys=set([\"ali\",\"veli\",\"deniz\"])\n",
    "print(girls.difference(boys))             # or girls-boys\n",
    "print(boys.difference(girls))             # or boys-girls\n",
    "girls.symmetric_difference(boys)"
   ]
  },
  {
   "cell_type": "markdown",
   "id": "3ac80ff5-1412-4ed0-b529-17ee0d1f6972",
   "metadata": {},
   "source": [
    "- intersection()"
   ]
  },
  {
   "cell_type": "code",
   "execution_count": 114,
   "id": "bf97da27-eac5-4d2c-82c9-48831ee1efed",
   "metadata": {},
   "outputs": [
    {
     "name": "stdout",
     "output_type": "stream",
     "text": [
      "{'deniz'}\n"
     ]
    }
   ],
   "source": [
    "girls=set([\"deniz\",\"ayse\",\"leyla\"])\n",
    "boys=set([\"ali\",\"veli\",\"deniz\"])\n",
    "unisex=girls.intersection(boys)          # or girls & boys\n",
    "print(unisex)"
   ]
  },
  {
   "cell_type": "markdown",
   "id": "df2e6308-9d54-474f-aeca-91e2baaa20c0",
   "metadata": {},
   "source": [
    "- union()"
   ]
  },
  {
   "cell_type": "code",
   "execution_count": 117,
   "id": "e984dccf-54cb-49ff-8dda-c50da3f21a25",
   "metadata": {},
   "outputs": [
    {
     "name": "stdout",
     "output_type": "stream",
     "text": [
      "{'veli', 'deniz', 'ali', 'ayse', 'leyla'}\n"
     ]
    }
   ],
   "source": [
    "girls=set([\"deniz\",\"ayse\",\"leyla\"])\n",
    "boys=set([\"ali\",\"veli\",\"deniz\"])\n",
    "people=girls.union(boys)                 # or girls | boys\n",
    "print(people)"
   ]
  },
  {
   "cell_type": "markdown",
   "id": "7701ca51-0f1c-4fc6-8c02-92c5f23bbaed",
   "metadata": {},
   "source": [
    "###### dir():to see other methods of set ######"
   ]
  },
  {
   "cell_type": "markdown",
   "id": "473b9a5a-df89-4940-b056-ff15c6d6fded",
   "metadata": {},
   "source": [
    "### Loops\n",
    "***\n",
    "- For: A for loop is used for iterating over  a list, a tuple, a dictionary, a set, or a string."
   ]
  },
  {
   "cell_type": "code",
   "execution_count": 40,
   "id": "7948aa29-e527-41f4-ba67-ccc2d8c28e84",
   "metadata": {},
   "outputs": [
    {
     "name": "stdout",
     "output_type": "stream",
     "text": [
      "*p*\n",
      "*y*\n",
      "*t*\n",
      "*h*\n",
      "*o*\n",
      "*n*\n"
     ]
    }
   ],
   "source": [
    "for i in \"python\":\n",
    "    print(\"*\"+i+\"*\")"
   ]
  },
  {
   "cell_type": "code",
   "execution_count": 38,
   "id": "f0ed7a9c-113c-46db-a5ca-36753ba6cf12",
   "metadata": {},
   "outputs": [
    {
     "name": "stdout",
     "output_type": "stream",
     "text": [
      "1\n",
      "2\n",
      "3\n"
     ]
    }
   ],
   "source": [
    "numbers=[\"1\",\"2\",\"3\"]\n",
    "for x in numbers:\n",
    "    print(x)"
   ]
  },
  {
   "cell_type": "markdown",
   "id": "760e41ef-4d82-4f02-b779-f2648cbddac2",
   "metadata": {},
   "source": [
    "##### Break and Continue\n",
    "-  Break statement stops the loop before it has looped through all the items.\n",
    "-  Continue statement stops the current iteration of the loop, and continue with the next."
   ]
  },
  {
   "cell_type": "code",
   "execution_count": 89,
   "id": "8c2b0676-c8f5-4240-bd0a-3a9b2b6a510f",
   "metadata": {},
   "outputs": [
    {
     "name": "stdout",
     "output_type": "stream",
     "text": [
      "negative numbers:-1\n",
      "positive numbers:1\n",
      "negative numbers:-3\n",
      "positive numbers:7\n"
     ]
    }
   ],
   "source": [
    "numbers=[-1,0,1,-3,7]\n",
    "for x in numbers:\n",
    "    if x < 0:\n",
    "        print(\"negative numbers:\"+ str(x))\n",
    "    elif x == 0:\n",
    "        continue\n",
    "    else:\n",
    "        print(\"positive numbers:\"+ str(x))"
   ]
  },
  {
   "cell_type": "markdown",
   "id": "d49f281b-e95d-43bb-a34e-09895441c0fd",
   "metadata": {},
   "source": [
    "- While: While  loops a list as long as a condition is true."
   ]
  },
  {
   "cell_type": "code",
   "execution_count": 94,
   "id": "2731d098-10d5-4c92-aeb9-98dc7e7b5db5",
   "metadata": {},
   "outputs": [
    {
     "name": "stdout",
     "output_type": "stream",
     "text": [
      "0\n",
      "1\n",
      "2\n",
      "3\n",
      "4\n",
      "5\n",
      "6\n",
      "7\n",
      "8\n",
      "9\n"
     ]
    }
   ],
   "source": [
    "x=0\n",
    "while x < 10:\n",
    "    print(x)\n",
    "    x+=1"
   ]
  },
  {
   "cell_type": "markdown",
   "id": "6e6d81d3-3251-4c2b-9aaf-d89a5c7b38c6",
   "metadata": {},
   "source": [
    "### If-Else-Elif\n",
    "***\n",
    "- If: If the condition is true ,first this condition\n",
    "- Elif: If the previous conditions were not true, then this condition\n",
    "- Else: If all other conditions were not true, finally this condition"
   ]
  },
  {
   "cell_type": "markdown",
   "id": "496bbc4e-492c-4e64-8b7c-fa37a83e4486",
   "metadata": {},
   "source": [
    "##### Conditions"
   ]
  },
  {
   "cell_type": "markdown",
   "id": "3fdab7f9-8201-4c54-bcc7-ae488abf8ae1",
   "metadata": {},
   "source": [
    "- Equals: a == b\n",
    "- Not Equals: a != b\n",
    "- Less than: a < b\n",
    "- Less than or equal to: a <= b\n",
    "- Greater than: a > b\n",
    "- Greater than or equal to: a >= b"
   ]
  },
  {
   "cell_type": "code",
   "execution_count": 26,
   "id": "84308c72-1d81-493f-9199-b6d95b11c0d8",
   "metadata": {},
   "outputs": [
    {
     "name": "stdin",
     "output_type": "stream",
     "text": [
      " 50\n"
     ]
    },
    {
     "name": "stdout",
     "output_type": "stream",
     "text": [
      "you passed the exam barely\n"
     ]
    }
   ],
   "source": [
    "exam_grade=float(input())\n",
    "if exam_grade > 50:\n",
    "    print(\"you passed the exam\")\n",
    "\n",
    "elif exam_grade == 50:\n",
    "    print(\"you passed the exam barely\")\n",
    "\n",
    "else:\n",
    "    print(\"you failed the exam\")"
   ]
  },
  {
   "cell_type": "markdown",
   "id": "2b87b119-525d-4b2a-92ea-bf5021414a0a",
   "metadata": {},
   "source": [
    "### Functions and Funciton Literacy\n",
    "***\n",
    "A function is a block of code which only runs when it is called."
   ]
  },
  {
   "cell_type": "markdown",
   "id": "390af28a-d586-4841-aea5-b7d55fc678bf",
   "metadata": {},
   "source": [
    "- def: Creating a new function"
   ]
  },
  {
   "cell_type": "code",
   "execution_count": 105,
   "id": "643c1cf2-e7a3-4417-8879-75cca9dce4d9",
   "metadata": {},
   "outputs": [
    {
     "name": "stdout",
     "output_type": "stream",
     "text": [
      "1\n",
      "4\n",
      "9\n",
      "16\n",
      "25\n",
      "36\n",
      "49\n"
     ]
    }
   ],
   "source": [
    "def squaring_numbers(x):\n",
    "    return(x**2)\n",
    "numbers=[1,2,3,4,5,6,7]\n",
    "for x in numbers:\n",
    "    print(squaring_numbers(x))"
   ]
  },
  {
   "cell_type": "markdown",
   "id": "411c0dc5-9d9c-42ce-a576-db2e3b427118",
   "metadata": {},
   "source": [
    "## OOP(Object Oriented Programming)\n",
    "***"
   ]
  },
  {
   "cell_type": "markdown",
   "id": "378a84f3-dc47-4ec8-bc6d-f22873c39f4c",
   "metadata": {},
   "source": [
    "### Class\n",
    "***\n",
    "Classes are structures that contain methods and variables. Classes have similar attributes and common purpose."
   ]
  },
  {
   "cell_type": "markdown",
   "id": "0d5ee2cc-5289-47c6-9c6f-9ae9478d6915",
   "metadata": {},
   "source": [
    "#### Class Attributes"
   ]
  },
  {
   "cell_type": "code",
   "execution_count": 21,
   "id": "20f2b044-b0bf-4132-afce-cdcda994fec4",
   "metadata": {},
   "outputs": [
    {
     "name": "stdout",
     "output_type": "stream",
     "text": [
      "223292191  18\n"
     ]
    }
   ],
   "source": [
    "class my_students:\n",
    "    s_number=\"223292191\"\n",
    "    s_old=18\n",
    "s1=my_students()\n",
    "print(s1.s_number+\"  \"+str(s1.s_old))"
   ]
  },
  {
   "cell_type": "markdown",
   "id": "44cda21a-7406-411e-a30c-0d6954138c31",
   "metadata": {},
   "source": [
    "##### init():Use the __init__() function to assign values to object properties, or other operations that are necessary to do when the object is being created"
   ]
  },
  {
   "cell_type": "code",
   "execution_count": 39,
   "id": "25985600-5216-4b83-a4e3-d0d1380c4974",
   "metadata": {},
   "outputs": [
    {
     "name": "stdout",
     "output_type": "stream",
     "text": [
      "22329219  18\n"
     ]
    }
   ],
   "source": [
    "class m1_students:\n",
    "    def __init__(self,number,old):\n",
    "        self.number=number\n",
    "        self.old=old\n",
    "s1=m1_students(\"22329219\",18)\n",
    "print(s1.number+\"  \"+str(s1.old))"
   ]
  },
  {
   "cell_type": "markdown",
   "id": "c2896bb7-c86d-4f68-be13-b0b56ea5f38f",
   "metadata": {},
   "source": [
    "### Inheritance\n",
    "***\n",
    "- Parent class is the class being inherited from\n",
    "- Child class is the class that inherits from another class"
   ]
  },
  {
   "cell_type": "code",
   "execution_count": 23,
   "id": "cd10a9f9-244e-4d41-8ff6-7f76d5875141",
   "metadata": {},
   "outputs": [
    {
     "name": "stdout",
     "output_type": "stream",
     "text": [
      "ali\n"
     ]
    }
   ],
   "source": [
    "class employees():\n",
    "    def __init__(self, f_name, l_name):\n",
    "        self.f_name = f_name\n",
    "        self.l_name = l_name\n",
    "\n",
    "class engineers(employees):\n",
    "    def __init__(self, f_name, l_name, programming):\n",
    "        super().__init__(f_name, l_name)\n",
    "        self.programming = programming\n",
    "\n",
    "computer_engineer = engineers(\"ali\", \"yilmaz\", \"c++\")\n",
    "print(computer_engineer.f_name)"
   ]
  },
  {
   "cell_type": "markdown",
   "id": "f6035712-866d-4953-9817-86a1105603ca",
   "metadata": {},
   "source": [
    "##### Polymorphism\n",
    "***\n",
    "Polymorphism is used in Class methods, where we can have multiple classes with the same method name."
   ]
  },
  {
   "cell_type": "code",
   "execution_count": 34,
   "id": "60faac7e-fc94-4de0-ab14-ce67cccde862",
   "metadata": {},
   "outputs": [
    {
     "name": "stdout",
     "output_type": "stream",
     "text": [
      "drive\n",
      "fly\n",
      "sail\n"
     ]
    }
   ],
   "source": [
    "class cars:\n",
    "    def __init__(self,c_brand,c_model):\n",
    "        self.c_brand=c_brand\n",
    "        self.c_model=c_model\n",
    "    def move(self):\n",
    "       print(\"drive\")\n",
    "\n",
    "class planes:\n",
    "    def __init__(self,p_brand,p_model):\n",
    "        self.p_brand=p_brand\n",
    "        self.p_model=p_model\n",
    "    def move(self):\n",
    "       print(\"fly\")\n",
    "\n",
    "class boats:\n",
    "    def __init__(self,b_brand,b_model):\n",
    "        self.b_brand=b_brand\n",
    "        self.b_model=b_model\n",
    "    def move(self):\n",
    "       print(\"sail\")\n",
    "car_1=cars(\"mercedes\",\"G63\")\n",
    "plane_1=planes(\"airbus\",\"320\")\n",
    "boat_1=boats(\"azuure\",\"33C\")\n",
    "for x in (car_1,plane_1,boat_1):\n",
    "    x.move()"
   ]
  },
  {
   "cell_type": "markdown",
   "id": "d49882bf-1d41-495f-b47c-10d4e34c8aba",
   "metadata": {},
   "source": [
    "##### Scope\n",
    "***\n",
    "- Local Scope: A variable created inside a function\n",
    "- Global Scope: A variable created in the main body"
   ]
  },
  {
   "cell_type": "code",
   "execution_count": 48,
   "id": "608dc79f-46db-4919-a2a7-9112e0330e43",
   "metadata": {},
   "outputs": [
    {
     "name": "stdout",
     "output_type": "stream",
     "text": [
      "global x\n",
      "local x\n"
     ]
    }
   ],
   "source": [
    "x=\"global x\"\n",
    "def my_function():\n",
    "    x=\"local x\"\n",
    "    print(x)\n",
    "\n",
    "print(x)\n",
    "my_function()"
   ]
  },
  {
   "cell_type": "markdown",
   "id": "30057db9-6a8e-434d-86a2-9d5c8ec77f77",
   "metadata": {},
   "source": [
    "##### Math\n",
    "***"
   ]
  },
  {
   "cell_type": "code",
   "execution_count": 53,
   "id": "509edeb2-9008-4a92-ac32-9c69f3f6f979",
   "metadata": {},
   "outputs": [
    {
     "name": "stdout",
     "output_type": "stream",
     "text": [
      "3.0\n"
     ]
    }
   ],
   "source": [
    "import math\n",
    "x=math.sqrt(9)\n",
    "print(x)"
   ]
  },
  {
   "cell_type": "code",
   "execution_count": 55,
   "id": "d166d1db-9eb0-41fa-a4f7-b0d35fead957",
   "metadata": {},
   "outputs": [
    {
     "name": "stdout",
     "output_type": "stream",
     "text": [
      "28\n"
     ]
    }
   ],
   "source": [
    "import math\n",
    "y=math.ceil(27.8)\n",
    "print(y)"
   ]
  },
  {
   "cell_type": "markdown",
   "id": "e76f0f93-1e29-4028-9b0a-f5a88235df05",
   "metadata": {},
   "source": [
    "### Funcitonal Programming\n",
    "***"
   ]
  },
  {
   "cell_type": "markdown",
   "id": "fa73a053-d4a7-4646-b814-2b96d441904f",
   "metadata": {},
   "source": [
    "##### Anonymus Functions"
   ]
  },
  {
   "cell_type": "code",
   "execution_count": 11,
   "id": "f36f8bb3-0962-4700-a535-bfcffe29176a",
   "metadata": {},
   "outputs": [
    {
     "data": {
      "text/plain": [
       "15"
      ]
     },
     "execution_count": 11,
     "metadata": {},
     "output_type": "execute_result"
    }
   ],
   "source": [
    "new_sum=lambda x,y: x+y\n",
    "new_sum(6,9)"
   ]
  },
  {
   "cell_type": "markdown",
   "id": "711a731a-2a11-4d36-9122-7cd2632b6a8e",
   "metadata": {},
   "source": [
    "##### Vectorel Functions"
   ]
  },
  {
   "cell_type": "code",
   "execution_count": 35,
   "id": "743bb4c0-7124-4205-b44d-0f4274502a1c",
   "metadata": {},
   "outputs": [
    {
     "data": {
      "text/plain": [
       "array([ 5, 12, 21, 32])"
      ]
     },
     "execution_count": 35,
     "metadata": {},
     "output_type": "execute_result"
    }
   ],
   "source": [
    "import numpy as np\n",
    "a=np.array([1,2,3,4])\n",
    "b=np.array([5,6,7,8])\n",
    "a*b\n"
   ]
  },
  {
   "cell_type": "markdown",
   "id": "7927fd0d-cf94-42fe-860f-7eb9ec9665bc",
   "metadata": {},
   "source": [
    "##### Map & Filter "
   ]
  },
  {
   "cell_type": "code",
   "execution_count": 40,
   "id": "0cafaf8f-f19c-4315-ac2a-e0ceedefe9fc",
   "metadata": {},
   "outputs": [
    {
     "data": {
      "text/plain": [
       "[50, 55, 60, 65]"
      ]
     },
     "execution_count": 40,
     "metadata": {},
     "output_type": "execute_result"
    }
   ],
   "source": [
    "number_lists=[10,11,12,13]\n",
    "list(map(lambda i:i*5,number_lists))  #map functions"
   ]
  },
  {
   "cell_type": "code",
   "execution_count": 48,
   "id": "f9366d10-0e4a-4ecc-b6be-dfdba2d76154",
   "metadata": {},
   "outputs": [
    {
     "data": {
      "text/plain": [
       "[2, 4, 6, 8]"
      ]
     },
     "execution_count": 48,
     "metadata": {},
     "output_type": "execute_result"
    }
   ],
   "source": [
    "numbers=[1,2,3,4,5,6,7,8]\n",
    "even_numbers=list(filter(lambda x:x%2==0,numbers)) \n",
    "even_numbers"
   ]
  },
  {
   "cell_type": "markdown",
   "id": "e333ac6e-db23-47b8-9a96-813d87455b53",
   "metadata": {},
   "source": [
    "### Exceptions\n",
    "***\n",
    "When an error or exception , Python will normally stop and generate an error message.\n",
    "\r\n",
    "These exceptions can be handled using the try statement:"
   ]
  },
  {
   "cell_type": "code",
   "execution_count": 56,
   "id": "9ee53255-725b-4c29-abec-cf49bdc86040",
   "metadata": {},
   "outputs": [
    {
     "name": "stdout",
     "output_type": "stream",
     "text": [
      "b cannot be zero\n"
     ]
    }
   ],
   "source": [
    "a=22\n",
    "b=0\n",
    "#print (a/b)   #ZeroDivisionError\n",
    "try:\n",
    "    print(a/b)\n",
    "except ZeroDivisionError:\n",
    "    print(\"b cannot be zero\")"
   ]
  },
  {
   "cell_type": "markdown",
   "id": "c5f003da-0e72-462e-a129-d58ae6ee0565",
   "metadata": {},
   "source": [
    "##### Sources\n",
    "***\n",
    " - https://www.freecodecamp.org/news/snake-case-vs-camel-case-vs-pascal-case-vs-kebab-case-whats-the-difference/\n",
    " - https://www.w3schools.com/python/default.asp\n",
    " - https://www.geeksforgeeks.org/python-keywords/"
   ]
  }
 ],
 "metadata": {
  "kernelspec": {
   "display_name": "Python 3 (ipykernel)",
   "language": "python",
   "name": "python3"
  },
  "language_info": {
   "codemirror_mode": {
    "name": "ipython",
    "version": 3
   },
   "file_extension": ".py",
   "mimetype": "text/x-python",
   "name": "python",
   "nbconvert_exporter": "python",
   "pygments_lexer": "ipython3",
   "version": "3.12.4"
  }
 },
 "nbformat": 4,
 "nbformat_minor": 5
}
